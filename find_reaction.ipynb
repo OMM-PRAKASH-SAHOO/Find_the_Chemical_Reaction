{
  "nbformat": 4,
  "nbformat_minor": 0,
  "metadata": {
    "colab": {
      "name": "Image Detection",
      "provenance": [],
      "collapsed_sections": [
        "kdnJ95RjUhRL"
      ]
    },
    "kernelspec": {
      "display_name": "Python 3",
      "name": "python3"
    },
    "language_info": {
      "name": "python"
    }
  },
  "cells": [
    {
      "cell_type": "code",
      "metadata": {
        "id": "p0q7uJ97453O"
      },
      "source": [
        "import cv2\n",
        "import os\n",
        "import numpy as np\n",
        "import cv2\n",
        "from google.colab.patches import cv2_imshow\n",
        "from tensorflow.keras.models import load_model\n",
        "import matplotlib.pyplot as plt"
      ],
      "execution_count": null,
      "outputs": []
    },
    {
      "cell_type": "code",
      "metadata": {
        "colab": {
          "base_uri": "https://localhost:8080/"
        },
        "id": "AVWv3PtzBS13",
        "outputId": "c6c6d40c-713f-4b24-9af5-0065a5194216"
      },
      "source": [
        "from google.colab import drive\n",
        "drive.mount('/content/drive')\n",
        "#Saved Model Directory\n",
        "model = load_model('/content/drive/MyDrive/ML Project/model')"
      ],
      "execution_count": null,
      "outputs": [
        {
          "output_type": "stream",
          "text": [
            "Mounted at /content/drive\n"
          ],
          "name": "stdout"
        }
      ]
    },
    {
      "cell_type": "code",
      "metadata": {
        "colab": {
          "base_uri": "https://localhost:8080/"
        },
        "id": "kRrKnF1kSzYo",
        "outputId": "95863e77-af8e-459e-bdc6-a3afe45b97b2"
      },
      "source": [
        "!pip install Autoscraper"
      ],
      "execution_count": null,
      "outputs": [
        {
          "output_type": "stream",
          "text": [
            "Collecting Autoscraper\n",
            "  Downloading autoscraper-1.1.12-py3-none-any.whl (10 kB)\n",
            "Requirement already satisfied: bs4 in /usr/local/lib/python3.7/dist-packages (from Autoscraper) (0.0.1)\n",
            "Requirement already satisfied: lxml in /usr/local/lib/python3.7/dist-packages (from Autoscraper) (4.2.6)\n",
            "Requirement already satisfied: requests in /usr/local/lib/python3.7/dist-packages (from Autoscraper) (2.23.0)\n",
            "Requirement already satisfied: beautifulsoup4 in /usr/local/lib/python3.7/dist-packages (from bs4->Autoscraper) (4.6.3)\n",
            "Requirement already satisfied: certifi>=2017.4.17 in /usr/local/lib/python3.7/dist-packages (from requests->Autoscraper) (2021.5.30)\n",
            "Requirement already satisfied: chardet<4,>=3.0.2 in /usr/local/lib/python3.7/dist-packages (from requests->Autoscraper) (3.0.4)\n",
            "Requirement already satisfied: idna<3,>=2.5 in /usr/local/lib/python3.7/dist-packages (from requests->Autoscraper) (2.10)\n",
            "Requirement already satisfied: urllib3!=1.25.0,!=1.25.1,<1.26,>=1.21.1 in /usr/local/lib/python3.7/dist-packages (from requests->Autoscraper) (1.24.3)\n",
            "Installing collected packages: Autoscraper\n",
            "Successfully installed Autoscraper-1.1.12\n"
          ],
          "name": "stdout"
        }
      ]
    },
    {
      "cell_type": "markdown",
      "metadata": {
        "id": "WNjdd5vf-gfq"
      },
      "source": [
        "## Recognition "
      ]
    },
    {
      "cell_type": "code",
      "metadata": {
        "id": "orWLY7pwiH4t"
      },
      "source": [
        "def add_border(img,bordersize):\n",
        "    border = cv2.copyMakeBorder(\n",
        "    img,\n",
        "    top=0,\n",
        "    bottom=0,\n",
        "    left=bordersize,\n",
        "    right=bordersize,\n",
        "    borderType=cv2.BORDER_CONSTANT,\n",
        "    value=[255, 255,255]\n",
        "    )\n",
        "    return border.copy()"
      ],
      "execution_count": null,
      "outputs": []
    },
    {
      "cell_type": "code",
      "metadata": {
        "id": "K_Nmt0BjFjuU"
      },
      "source": [
        "classes = '0123456789ABCDEFGHIJKLMNOPQRSTUVWXYZ()+'  \n",
        "def predict_char(x1,x2,y1,y2,img):\n",
        "  img = img[y1:y2,x1:x2]\n",
        "  img = add_border(img,10)\n",
        "  border = cv2.resize(img,(28,28),interpolation = cv2.INTER_AREA)\n",
        "  cv2_imshow(border)\n",
        " # img = cv2.resize(img,(28,28),cv2.INTER_AREA)\n",
        "  #cv2_imshow(img)\n",
        "  arr = np.array(border)\n",
        "  arr = arr.reshape(-1,28,28,1)\n",
        "  index = np.argmax(model.predict(arr))\n",
        "  return classes[index]"
      ],
      "execution_count": null,
      "outputs": []
    },
    {
      "cell_type": "code",
      "metadata": {
        "id": "lf1ohzKu6gio"
      },
      "source": [
        "def find_edges(edge,axs):\n",
        "    sum = np.sum(edge, axis=axs)\n",
        "    sum = sum != 0\n",
        "    changes = np.logical_xor(sum[1:], sum[:-1])\n",
        "    return np.nonzero(changes)[0]"
      ],
      "execution_count": null,
      "outputs": []
    },
    {
      "cell_type": "code",
      "metadata": {
        "colab": {
          "base_uri": "https://localhost:8080/",
          "height": 34
        },
        "id": "Qwb0Z1xj6dk3",
        "outputId": "a6650895-2955-4edd-b5d3-6a343be7bea2"
      },
      "source": [
        "plt.figure(figsize = (15,15))\n",
        "def find_character(imag,org):\n",
        "    shap = imag.shape[:2]\n",
        "    size = 3\n",
        "    imag = cv2.copyMakeBorder(imag,size,size,size,size,cv2.BORDER_CONSTANT,value = (0,0,0))\n",
        "    imag = cv2.resize(imag,(6*shap[0],4*shap[1]),interpolation = cv2.INTER_AREA)\n",
        "    imag = cv2.bitwise_not(imag)\n",
        "    vert_edges = cv2.Canny(imag, 200, 255)\n",
        "    vert_loc_pts = find_edges(vert_edges.copy(),0)\n",
        "\n",
        "    char_location = []\n",
        "    char = ''\n",
        "    for idx in range(0,len(vert_loc_pts),2):\n",
        "        x1 = vert_loc_pts[idx]+1\n",
        "        x2 = vert_loc_pts[idx+1]+1\n",
        "        vert_img = imag[:, x1:x2]\n",
        "        hrz_edges = cv2.Canny(vert_img,200,255)\n",
        "        hrz_loc_pts = find_edges(hrz_edges.copy(),1)\n",
        "        y1 = hrz_loc_pts[0]\n",
        "        y2 = hrz_loc_pts[1]\n",
        "        space = 7\n",
        "        char += predict_char(x1-space,x2+space,y1-space,y2+space,imag.copy())\n",
        "       # cv2.rectangle(org, (x1, y1), (x2, y2), (0, 255 , 100), thickness=1)\n",
        "    #cv2_imshow(org)\n",
        "    return char"
      ],
      "execution_count": null,
      "outputs": [
        {
          "output_type": "display_data",
          "data": {
            "text/plain": [
              "<Figure size 1080x1080 with 0 Axes>"
            ]
          },
          "metadata": {
            "tags": []
          }
        }
      ]
    },
    {
      "cell_type": "markdown",
      "metadata": {
        "id": "kdnJ95RjUhRL"
      },
      "source": [
        "## Searching products\n",
        "(Make sure your Internet is on)"
      ]
    },
    {
      "cell_type": "code",
      "metadata": {
        "id": "KwRfmg7jSuJB"
      },
      "source": [
        "from autoscraper import AutoScraper\n",
        "\n",
        "url = 'https://chemequations.com/en/?s='\n",
        "\n",
        "search1 = 'naoh+%2B+HCl'\n",
        "\n",
        "content_ans = ['NaOH (aq) + HCl (aq) → H2O (l) + NaCl (aq)']\n",
        "content_detail = ['This is an acid-base reaction (neutralization): NaOH is a base, HCl is an acid.']\n",
        "\n",
        "scraper_ans = AutoScraper()\n",
        "scraper_detail = AutoScraper()\n",
        "\n",
        "result_ans = scraper_ans.build(url+search1,content_ans)\n",
        "result_detail = scraper_detail.build(url+search1,content_detail)"
      ],
      "execution_count": null,
      "outputs": []
    },
    {
      "cell_type": "code",
      "metadata": {
        "id": "d1kG9Vu_lJZD"
      },
      "source": [
        "def find_result(reaction):\n",
        "  search = reaction.lower().replace('+','+%2B+')\n",
        "  try:\n",
        "    result_ans = scraper_ans.get_result_similar(url+search)\n",
        "    result_detail = scraper_detail.get_result_similar(url+search)\n",
        "    return result_ans, result_detail\n",
        "  except:\n",
        "    return 'Soory, Answer Not Found...',''"
      ],
      "execution_count": null,
      "outputs": []
    },
    {
      "cell_type": "markdown",
      "metadata": {
        "id": "UqraqvJi_-5D"
      },
      "source": [
        "## Detection"
      ]
    },
    {
      "cell_type": "code",
      "metadata": {
        "id": "3jzA55JK5vgb"
      },
      "source": [
        "def get_contour_precedence(contour, cols):\n",
        "    tolerance_factor = 61\n",
        "    origin = cv2.boundingRect(contour)\n",
        "    return ((origin[1] // tolerance_factor) * tolerance_factor) * cols + origin[0]"
      ],
      "execution_count": null,
      "outputs": []
    },
    {
      "cell_type": "code",
      "metadata": {
        "colab": {
          "base_uri": "https://localhost:8080/",
          "height": 34
        },
        "id": "cvZGFjHn6DJR",
        "outputId": "0770c2cd-684b-457e-e8ad-0e14ab1c8d7f"
      },
      "source": [
        "plt.figure(figsize = (15,15))\n",
        "def find_reaction(path):\n",
        "    img = cv2.imread(path)\n",
        "    gray = cv2.cvtColor(img, cv2.COLOR_BGR2GRAY)\n",
        "    ret, thresh1 = cv2.threshold(gray, 0, 255, cv2.THRESH_OTSU | cv2.THRESH_BINARY_INV)\n",
        "\n",
        "    rect_kernel = cv2.getStructuringElement(cv2.MORPH_RECT, (10, 10))\n",
        "    dilation = cv2.dilate(thresh1, rect_kernel, iterations=1)\n",
        "    contours, hierarchy = cv2.findContours(dilation, cv2.RETR_EXTERNAL,\n",
        "                                           cv2.CHAIN_APPROX_NONE)\n",
        "    im2 = img.copy()\n",
        "    contours.sort(key=lambda x: get_contour_precedence(x, thresh1.shape[1]))\n",
        "    print('Original Image:')\n",
        "    cv2_imshow(im2)\n",
        "    print('\\nDetected Characters:')\n",
        "    reactant = ''\n",
        "    for cnt in contours:\n",
        "        x, y, w, h = cv2.boundingRect(cnt)\n",
        "        area = cv2.contourArea(cnt)\n",
        "        #print(area)\n",
        "        if area < 400:\n",
        "            continue\n",
        "        rect = cv2.rectangle(im2, (x, y), (x + w, y + h), (0,100,255), 2)\n",
        "        temp = cv2.bitwise_not(thresh1[y:y+h,x:x+w])\n",
        "        reactant += find_character(thresh1[y:y+h,x:x+w],im2)\n",
        "    print('\\nText Detected: ')\n",
        "    cv2_imshow(im2)\n",
        "    print(f'\\nReactants: {reactant}',end = '\\n\\n')\n",
        "    reaction, details = find_result(reactant)\n",
        "    try:\n",
        "      print(f'The complete balanced reaction...\\n>>> {reaction[0]}')\n",
        "      print(f'\\nReaction Details...\\n>>> {details[0]}\\n\\n')\n",
        "    except IndexError:\n",
        "      print('!! Answer Not Found !!\\n\\n')    "
      ],
      "execution_count": null,
      "outputs": [
        {
          "output_type": "display_data",
          "data": {
            "text/plain": [
              "<Figure size 1080x1080 with 0 Axes>"
            ]
          },
          "metadata": {
            "tags": []
          }
        }
      ]
    },
    {
      "cell_type": "markdown",
      "metadata": {
        "id": "YxY5onqnUvhZ"
      },
      "source": [
        "## Testing Images\n",
        "(Change path according to your Image directory)"
      ]
    },
    {
      "cell_type": "code",
      "metadata": {
        "id": "mnp0Q4AVU0GK"
      },
      "source": [
        "# Test Image Directory\n",
        "path = '/content/drive/MyDrive/ML Project/Final_Images'"
      ],
      "execution_count": null,
      "outputs": []
    },
    {
      "cell_type": "code",
      "metadata": {
        "colab": {
          "base_uri": "https://localhost:8080/",
          "height": 886
        },
        "id": "csA1zp0yVWWF",
        "outputId": "345e3846-41a7-4ab6-c5d0-d2e91140259e"
      },
      "source": [
        "find_reaction(os.path.join(path,'final 1.png'))"
      ],
      "execution_count": null,
      "outputs": [
        {
          "output_type": "stream",
          "text": [
            "Original Image:\n"
          ],
          "name": "stdout"
        },
        {
          "output_type": "display_data",
          "data": {
            "image/png": "[encoded data removed]",
            "text/plain": [
              "<PIL.Image.Image image mode=RGB size=417x111 at 0x7FB2EB505150>"
            ]
          },
          "metadata": {
            "tags": []
          }
        },
        {
          "output_type": "stream",
          "text": [
            "\n",
            "Detected Characters:\n"
          ],
          "name": "stdout"
        },
        {
          "output_type": "display_data",
          "data": {
            "image/png": "[encoded data removed]",
            "text/plain": [
              "<PIL.Image.Image image mode=L size=28x28 at 0x7FB2EB4A4190>"
            ]
          },
          "metadata": {
            "tags": []
          }
        },
        {
          "output_type": "display_data",
          "data": {
            "image/png": "[encoded data removed]",
            "text/plain": [
              "<PIL.Image.Image image mode=L size=28x28 at 0x7FB2EB417A90>"
            ]
          },
          "metadata": {
            "tags": []
          }
        },
        {
          "output_type": "display_data",
          "data": {
            "image/png": "[encoded data removed]",
            "text/plain": [
              "<PIL.Image.Image image mode=L size=28x28 at 0x7FB2EA30EA90>"
            ]
          },
          "metadata": {
            "tags": []
          }
        },
        {
          "output_type": "display_data",
          "data": {
            "image/png": "[encoded data removed]",
            "text/plain": [
              "<PIL.Image.Image image mode=L size=28x28 at 0x7FB2EA2F47D0>"
            ]
          },
          "metadata": {
            "tags": []
          }
        },
        {
          "output_type": "display_data",
          "data": {
            "image/png": "[encoded data removed]",
            "text/plain": [
              "<PIL.Image.Image image mode=L size=28x28 at 0x7FB2E8548FD0>"
            ]
          },
          "metadata": {
            "tags": []
          }
        },
        {
          "output_type": "display_data",
          "data": {
            "image/png": "[encoded data removed]",
            "text/plain": [
              "<PIL.Image.Image image mode=L size=28x28 at 0x7FB2E853FD10>"
            ]
          },
          "metadata": {
            "tags": []
          }
        },
        {
          "output_type": "display_data",
          "data": {
            "image/png": "[encoded data removed]",
            "text/plain": [
              "<PIL.Image.Image image mode=L size=28x28 at 0x7FB2E851CA50>"
            ]
          },
          "metadata": {
            "tags": []
          }
        },
        {
          "output_type": "display_data",
          "data": {
            "image/png": "[encoded data removed]",
            "text/plain": [
              "<PIL.Image.Image image mode=L size=28x28 at 0x7FB2E84C1F90>"
            ]
          },
          "metadata": {
            "tags": []
          }
        },
        {
          "output_type": "display_data",
          "data": {
            "image/png": "[encoded data removed]",
            "text/plain": [
              "<PIL.Image.Image image mode=L size=28x28 at 0x7FB2E8467850>"
            ]
          },
          "metadata": {
            "tags": []
          }
        },
        {
          "output_type": "display_data",
          "data": {
            "image/png": "[encoded data removed]",
            "text/plain": [
              "<PIL.Image.Image image mode=L size=28x28 at 0x7FB2E84A3A50>"
            ]
          },
          "metadata": {
            "tags": []
          }
        },
        {
          "output_type": "display_data",
          "data": {
            "image/png": "[encoded data removed]",
            "text/plain": [
              "<PIL.Image.Image image mode=L size=28x28 at 0x7FB2E84E42D0>"
            ]
          },
          "metadata": {
            "tags": []
          }
        },
        {
          "output_type": "display_data",
          "data": {
            "image/png": "[encoded data removed]",
            "text/plain": [
              "<PIL.Image.Image image mode=L size=28x28 at 0x7FB2EA2C9AD0>"
            ]
          },
          "metadata": {
            "tags": []
          }
        },
        {
          "output_type": "display_data",
          "data": {
            "image/png": "[encoded data removed]",
            "text/plain": [
              "<PIL.Image.Image image mode=L size=28x28 at 0x7FB2E84DCE90>"
            ]
          },
          "metadata": {
            "tags": []
          }
        },
        {
          "output_type": "stream",
          "text": [
            "\n",
            "Text Detected: \n"
          ],
          "name": "stdout"
        },
        {
          "output_type": "display_data",
          "data": {
            "image/png": "[encoded data removed]",
            "text/plain": [
              "<PIL.Image.Image image mode=RGB size=417x111 at 0x7FB2E84E9710>"
            ]
          },
          "metadata": {
            "tags": []
          }
        },
        {
          "output_type": "stream",
          "text": [
            "\n",
            "Reactants: P4+3NAOH+3H2O\n",
            "\n",
            "The complete balanced reaction...\n",
            ">>> P4 + 3 NaOH + 3 H2O → PH3 + 3 NaH2PO2\n",
            "\n",
            "Reaction Details...\n",
            ">>> This is an oxidation-reduction (redox) reaction:3 P0 - 3 e- → 3 PI (oxidation)P0 + 3 e- → P-III (reduction)P4 is both an oxidizing and a reducing agent (disproportionation (dismutation)).\n",
            "\n",
            "\n"
          ],
          "name": "stdout"
        }
      ]
    },
    {
      "cell_type": "code",
      "metadata": {
        "colab": {
          "base_uri": "https://localhost:8080/",
          "height": 640
        },
        "id": "ztu374TdVq6B",
        "outputId": "0cfc89f5-58cd-43d1-8fe1-86494486a007"
      },
      "source": [
        "find_reaction(os.path.join(path,'final 6.png'))"
      ],
      "execution_count": null,
      "outputs": [
        {
          "output_type": "stream",
          "text": [
            "Original Image:\n"
          ],
          "name": "stdout"
        },
        {
          "output_type": "display_data",
          "data": {
            "image/png": "[encoded data removed]",
            "text/plain": [
              "<PIL.Image.Image image mode=RGB size=222x86 at 0x7FB2E8459BD0>"
            ]
          },
          "metadata": {
            "tags": []
          }
        },
        {
          "output_type": "stream",
          "text": [
            "\n",
            "Detected Characters:\n"
          ],
          "name": "stdout"
        },
        {
          "output_type": "display_data",
          "data": {
            "image/png": "[encoded data removed]",
            "text/plain": [
              "<PIL.Image.Image image mode=L size=28x28 at 0x7FB2EB549C90>"
            ]
          },
          "metadata": {
            "tags": []
          }
        },
        {
          "output_type": "display_data",
          "data": {
            "image/png": "[encoded data removed]",
            "text/plain": [
              "<PIL.Image.Image image mode=L size=28x28 at 0x7FB2E83FBB50>"
            ]
          },
          "metadata": {
            "tags": []
          }
        },
        {
          "output_type": "display_data",
          "data": {
            "image/png": "[encoded data removed]",
            "text/plain": [
              "<PIL.Image.Image image mode=L size=28x28 at 0x7FB2E8415B90>"
            ]
          },
          "metadata": {
            "tags": []
          }
        },
        {
          "output_type": "display_data",
          "data": {
            "image/png": "[encoded data removed]",
            "text/plain": [
              "<PIL.Image.Image image mode=L size=28x28 at 0x7FB2E83BD190>"
            ]
          },
          "metadata": {
            "tags": []
          }
        },
        {
          "output_type": "display_data",
          "data": {
            "image/png": "[encoded data removed]",
            "text/plain": [
              "<PIL.Image.Image image mode=L size=28x28 at 0x7FB2E83D0BD0>"
            ]
          },
          "metadata": {
            "tags": []
          }
        },
        {
          "output_type": "display_data",
          "data": {
            "image/png": "[encoded data removed]",
            "text/plain": [
              "<PIL.Image.Image image mode=L size=28x28 at 0x7FB2E83CA290>"
            ]
          },
          "metadata": {
            "tags": []
          }
        },
        {
          "output_type": "stream",
          "text": [
            "\n",
            "Text Detected: \n"
          ],
          "name": "stdout"
        },
        {
          "output_type": "display_data",
          "data": {
            "image/png": "[encoded data removed]",
            "text/plain": [
              "<PIL.Image.Image image mode=RGB size=222x86 at 0x7FB2EA2A84D0>"
            ]
          },
          "metadata": {
            "tags": []
          }
        },
        {
          "output_type": "stream",
          "text": [
            "\n",
            "Reactants: HCL+O2\n",
            "\n",
            "The complete balanced reaction...\n",
            ">>> 4 HCl (g) + O2 (g) → 2 H2O (l) + 2 Cl2 (g)\n",
            "\n",
            "Reaction Details...\n",
            ">>> This is an oxidation-reduction (redox) reaction:4 Cl-I - 4 e- → 4 Cl0 (oxidation)2 O0 + 4 e- → 2 O-II (reduction)HCl is a reducing agent, O2 is an oxidizing agent.\n",
            "\n",
            "\n"
          ],
          "name": "stdout"
        }
      ]
    },
    {
      "cell_type": "code",
      "metadata": {
        "colab": {
          "base_uri": "https://localhost:8080/",
          "height": 733
        },
        "id": "6JL3HZl-VvFO",
        "outputId": "6cbe5918-2540-4872-d878-9f4f65bdf923"
      },
      "source": [
        "find_reaction(os.path.join(path,'final 3.png'))"
      ],
      "execution_count": null,
      "outputs": [
        {
          "output_type": "stream",
          "text": [
            "Original Image:\n"
          ],
          "name": "stdout"
        },
        {
          "output_type": "display_data",
          "data": {
            "image/png": "[encoded data removed]",
            "text/plain": [
              "<PIL.Image.Image image mode=RGB size=316x90 at 0x7FB2E835A510>"
            ]
          },
          "metadata": {
            "tags": []
          }
        },
        {
          "output_type": "stream",
          "text": [
            "\n",
            "Detected Characters:\n"
          ],
          "name": "stdout"
        },
        {
          "output_type": "display_data",
          "data": {
            "image/png": "[encoded data removed]",
            "text/plain": [
              "<PIL.Image.Image image mode=L size=28x28 at 0x7FB2E840AB90>"
            ]
          },
          "metadata": {
            "tags": []
          }
        },
        {
          "output_type": "display_data",
          "data": {
            "image/png": "[encoded data removed]",
            "text/plain": [
              "<PIL.Image.Image image mode=L size=28x28 at 0x7FB2E83FBFD0>"
            ]
          },
          "metadata": {
            "tags": []
          }
        },
        {
          "output_type": "display_data",
          "data": {
            "image/png": "[encoded data removed]",
            "text/plain": [
              "<PIL.Image.Image image mode=L size=28x28 at 0x7FB2E83E34D0>"
            ]
          },
          "metadata": {
            "tags": []
          }
        },
        {
          "output_type": "display_data",
          "data": {
            "image/png": "[encoded data removed]",
            "text/plain": [
              "<PIL.Image.Image image mode=L size=28x28 at 0x7FB2EA2B8A10>"
            ]
          },
          "metadata": {
            "tags": []
          }
        },
        {
          "output_type": "display_data",
          "data": {
            "image/png": "[encoded data removed]",
            "text/plain": [
              "<PIL.Image.Image image mode=L size=28x28 at 0x7FB2E84E4250>"
            ]
          },
          "metadata": {
            "tags": []
          }
        },
        {
          "output_type": "display_data",
          "data": {
            "image/png": "[encoded data removed]",
            "text/plain": [
              "<PIL.Image.Image image mode=L size=28x28 at 0x7FB2E84E4710>"
            ]
          },
          "metadata": {
            "tags": []
          }
        },
        {
          "output_type": "display_data",
          "data": {
            "image/png": "[encoded data removed]",
            "text/plain": [
              "<PIL.Image.Image image mode=L size=28x28 at 0x7FB2E841CA50>"
            ]
          },
          "metadata": {
            "tags": []
          }
        },
        {
          "output_type": "display_data",
          "data": {
            "image/png": "[encoded data removed]",
            "text/plain": [
              "<PIL.Image.Image image mode=L size=28x28 at 0x7FB2E8403A50>"
            ]
          },
          "metadata": {
            "tags": []
          }
        },
        {
          "output_type": "display_data",
          "data": {
            "image/png": "[encoded data removed]",
            "text/plain": [
              "<PIL.Image.Image image mode=L size=28x28 at 0x7FB2E8404590>"
            ]
          },
          "metadata": {
            "tags": []
          }
        },
        {
          "output_type": "stream",
          "text": [
            "\n",
            "Text Detected: \n"
          ],
          "name": "stdout"
        },
        {
          "output_type": "display_data",
          "data": {
            "image/png": "[encoded data removed]",
            "text/plain": [
              "<PIL.Image.Image image mode=RGB size=316x90 at 0x7FB2E8560610>"
            ]
          },
          "metadata": {
            "tags": []
          }
        },
        {
          "output_type": "stream",
          "text": [
            "\n",
            "Reactants: CA3P2+H2O\n",
            "\n",
            "The complete balanced reaction...\n",
            ">>> Ca3P2 + 6 H2O → 3 Ca(OH)2 + 2 PH3\n",
            "\n",
            "Reaction Details...\n",
            ">>> Reactants:Ca3P2 – Calcium phosphide Other names: Photophor , CP , Polythanol , Tricalcium diphosphide Appearance: Red-brown crystalline powder or grey lumps ; Red-brown crystalline powder or grey lumps H2O – Water, oxidane Other names: Water (H2O) , Hydrogen hydroxide (HH or HOH) , Hydrogen oxide ... show moreDihydrogen monoxide (DHMO) (systematic name) , Hydrogen monoxide , Dihydrogen oxide , Hydric acid , Hydrohydroxic acid , Hydroxic acid , Hydrol , Μ-oxido dihydrogen , Κ1-hydroxyl hydrogen(0) show lessAppearance: White crystalline solid, almost colorless liquid with a hint of blue, colorless gas Products:Ca(OH)2 – Calcium hydroxide Other names: {{ubl , Slaked lime , Calcium hydrate ... show moreCaustic lime , Hydrated lime , Ca(OH)2 , Hydralime , Calcium dihydroxide show lessAppearance: White powder ; Colourless crystals or white powder ; White, odorless powder. [Note: Readily absorbs CO2 from the air to form calcium carbonate.] PH3 – Phosphane Other names: Phosphine , Phosphamine , Phosphorus trihydride ... show morePhosphorated hydrogen , Hydrogen phosphide , Phosphorus hydride , [PH3] , PH3 show lessAppearance: Colorless gas ; Colourless compressed liquefied gas ; Colorless gas with a fish- or garlic-like odor. [pesticide] [Note: Shipped as a liquefied compressed gas. Pure compound is odorless.]\n",
            "\n",
            "\n"
          ],
          "name": "stdout"
        }
      ]
    },
    {
      "cell_type": "code",
      "metadata": {
        "colab": {
          "base_uri": "https://localhost:8080/",
          "height": 814
        },
        "id": "fPyOVmpwV7V2",
        "outputId": "b974d32c-640b-42f1-fd6b-5aecca6362f6"
      },
      "source": [
        "find_reaction(os.path.join(path,'final 8.png'))"
      ],
      "execution_count": null,
      "outputs": [
        {
          "output_type": "stream",
          "text": [
            "Original Image:\n"
          ],
          "name": "stdout"
        },
        {
          "output_type": "display_data",
          "data": {
            "image/png": "[encoded data removed]",
            "text/plain": [
              "<PIL.Image.Image image mode=RGB size=313x89 at 0x7FB2EA33CC90>"
            ]
          },
          "metadata": {
            "tags": []
          }
        },
        {
          "output_type": "stream",
          "text": [
            "\n",
            "Detected Characters:\n"
          ],
          "name": "stdout"
        },
        {
          "output_type": "display_data",
          "data": {
            "image/png": "[encoded data removed]",
            "text/plain": [
              "<PIL.Image.Image image mode=L size=28x28 at 0x7FB2E8337C50>"
            ]
          },
          "metadata": {
            "tags": []
          }
        },
        {
          "output_type": "display_data",
          "data": {
            "image/png": "[encoded data removed]",
            "text/plain": [
              "<PIL.Image.Image image mode=L size=28x28 at 0x7FB2E81FD590>"
            ]
          },
          "metadata": {
            "tags": []
          }
        },
        {
          "output_type": "display_data",
          "data": {
            "image/png": "[encoded data removed]",
            "text/plain": [
              "<PIL.Image.Image image mode=L size=28x28 at 0x7FB2E81AAB10>"
            ]
          },
          "metadata": {
            "tags": []
          }
        },
        {
          "output_type": "display_data",
          "data": {
            "image/png": "[encoded data removed]",
            "text/plain": [
              "<PIL.Image.Image image mode=L size=28x28 at 0x7FB2E81C4E90>"
            ]
          },
          "metadata": {
            "tags": []
          }
        },
        {
          "output_type": "display_data",
          "data": {
            "image/png": "[encoded data removed]",
            "text/plain": [
              "<PIL.Image.Image image mode=L size=28x28 at 0x7FB2E841C590>"
            ]
          },
          "metadata": {
            "tags": []
          }
        },
        {
          "output_type": "display_data",
          "data": {
            "image/png": "[encoded data removed]",
            "text/plain": [
              "<PIL.Image.Image image mode=L size=28x28 at 0x7FB2E8319590>"
            ]
          },
          "metadata": {
            "tags": []
          }
        },
        {
          "output_type": "display_data",
          "data": {
            "image/png": "[encoded data removed]",
            "text/plain": [
              "<PIL.Image.Image image mode=L size=28x28 at 0x7FB2E8288650>"
            ]
          },
          "metadata": {
            "tags": []
          }
        },
        {
          "output_type": "display_data",
          "data": {
            "image/png": "[encoded data removed]",
            "text/plain": [
              "<PIL.Image.Image image mode=L size=28x28 at 0x7FB2EA33CE10>"
            ]
          },
          "metadata": {
            "tags": []
          }
        },
        {
          "output_type": "display_data",
          "data": {
            "image/png": "[encoded data removed]",
            "text/plain": [
              "<PIL.Image.Image image mode=L size=28x28 at 0x7FB2E8204D50>"
            ]
          },
          "metadata": {
            "tags": []
          }
        },
        {
          "output_type": "display_data",
          "data": {
            "image/png": "[encoded data removed]",
            "text/plain": [
              "<PIL.Image.Image image mode=L size=28x28 at 0x7FB2E81F0AD0>"
            ]
          },
          "metadata": {
            "tags": []
          }
        },
        {
          "output_type": "display_data",
          "data": {
            "image/png": "[encoded data removed]",
            "text/plain": [
              "<PIL.Image.Image image mode=L size=28x28 at 0x7FB2E81775D0>"
            ]
          },
          "metadata": {
            "tags": []
          }
        },
        {
          "output_type": "display_data",
          "data": {
            "image/png": "[encoded data removed]",
            "text/plain": [
              "<PIL.Image.Image image mode=L size=28x28 at 0x7FB2E81A06D0>"
            ]
          },
          "metadata": {
            "tags": []
          }
        },
        {
          "output_type": "stream",
          "text": [
            "\n",
            "Text Detected: \n"
          ],
          "name": "stdout"
        },
        {
          "output_type": "display_data",
          "data": {
            "image/png": "[encoded data removed]",
            "text/plain": [
              "<PIL.Image.Image image mode=RGB size=313x89 at 0x7FB2EA33CC90>"
            ]
          },
          "metadata": {
            "tags": []
          }
        },
        {
          "output_type": "stream",
          "text": [
            "\n",
            "Reactants: CA(OH)2+2CL2\n",
            "\n",
            "The complete balanced reaction...\n",
            ">>> 6 Ca(OH)2 (s) + 6 Cl2 (g) → 6 H2O (l) + 5 CaCl2 (aq) + Ca(ClO3)2 (aq)\n",
            "\n",
            "Reaction Details...\n",
            ">>> This is an oxidation-reduction (redox) reaction:10 Cl0 + 10 e- → 10 Cl-I (reduction)2 Cl0 - 10 e- → 2 ClV (oxidation)Cl2 is both an oxidizing and a reducing agent (disproportionation (dismutation)).\n",
            "\n",
            "\n"
          ],
          "name": "stdout"
        }
      ]
    }
  ]
}
